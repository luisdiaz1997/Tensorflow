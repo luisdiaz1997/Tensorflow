{
  "nbformat": 4,
  "nbformat_minor": 0,
  "metadata": {
    "colab": {
      "name": "AutoEnconder.ipynb",
      "version": "0.3.2",
      "provenance": [],
      "include_colab_link": true
    },
    "kernelspec": {
      "name": "python2",
      "display_name": "Python 2"
    },
    "accelerator": "GPU"
  },
  "cells": [
    {
      "cell_type": "markdown",
      "metadata": {
        "id": "view-in-github",
        "colab_type": "text"
      },
      "source": [
        "<a href=\"https://colab.research.google.com/github/luisdiaz1997/Tensorflow/blob/master/AutoEnconder.ipynb\" target=\"_parent\"><img src=\"https://colab.research.google.com/assets/colab-badge.svg\" alt=\"Open In Colab\"/></a>"
      ]
    },
    {
      "cell_type": "code",
      "metadata": {
        "id": "dhvXSDTUf9y9",
        "colab_type": "code",
        "colab": {}
      },
      "source": [
        "from __future__ import division, print_function, absolute_import\n",
        "\n",
        "import tensorflow as tf\n",
        "import numpy as np\n",
        "import matplotlib.pyplot as plt"
      ],
      "execution_count": 0,
      "outputs": []
    },
    {
      "cell_type": "code",
      "metadata": {
        "id": "OkmjNmgdAKow",
        "colab_type": "code",
        "outputId": "6d176d7e-6149-46e8-af48-7036e51aba5b",
        "colab": {
          "base_uri": "https://localhost:8080/",
          "height": 550
        }
      },
      "source": [
        "# Import MNIST data\n",
        "from tensorflow.examples.tutorials.mnist import input_data\n",
        "mnist = input_data.read_data_sets(\"/tmp/data/\", one_hot=True)"
      ],
      "execution_count": 3,
      "outputs": [
        {
          "output_type": "stream",
          "text": [
            "WARNING:tensorflow:From <ipython-input-3-c3d55fec490c>:2: read_data_sets (from tensorflow.contrib.learn.python.learn.datasets.mnist) is deprecated and will be removed in a future version.\n",
            "Instructions for updating:\n",
            "Please use alternatives such as official/mnist/dataset.py from tensorflow/models.\n",
            "WARNING:tensorflow:From /usr/local/lib/python2.7/dist-packages/tensorflow/contrib/learn/python/learn/datasets/mnist.py:260: maybe_download (from tensorflow.contrib.learn.python.learn.datasets.base) is deprecated and will be removed in a future version.\n",
            "Instructions for updating:\n",
            "Please write your own downloading logic.\n",
            "WARNING:tensorflow:From /usr/local/lib/python2.7/dist-packages/tensorflow/contrib/learn/python/learn/datasets/base.py:252: wrapped_fn (from tensorflow.contrib.learn.python.learn.datasets.base) is deprecated and will be removed in a future version.\n",
            "Instructions for updating:\n",
            "Please use urllib or similar directly.\n",
            "Successfully downloaded train-images-idx3-ubyte.gz 9912422 bytes.\n",
            "WARNING:tensorflow:From /usr/local/lib/python2.7/dist-packages/tensorflow/contrib/learn/python/learn/datasets/mnist.py:262: extract_images (from tensorflow.contrib.learn.python.learn.datasets.mnist) is deprecated and will be removed in a future version.\n",
            "Instructions for updating:\n",
            "Please use tf.data to implement this functionality.\n",
            "Extracting /tmp/data/train-images-idx3-ubyte.gz\n",
            "Successfully downloaded train-labels-idx1-ubyte.gz 28881 bytes.\n",
            "WARNING:tensorflow:From /usr/local/lib/python2.7/dist-packages/tensorflow/contrib/learn/python/learn/datasets/mnist.py:267: extract_labels (from tensorflow.contrib.learn.python.learn.datasets.mnist) is deprecated and will be removed in a future version.\n",
            "Instructions for updating:\n",
            "Please use tf.data to implement this functionality.\n",
            "Extracting /tmp/data/train-labels-idx1-ubyte.gz\n",
            "WARNING:tensorflow:From /usr/local/lib/python2.7/dist-packages/tensorflow/contrib/learn/python/learn/datasets/mnist.py:110: dense_to_one_hot (from tensorflow.contrib.learn.python.learn.datasets.mnist) is deprecated and will be removed in a future version.\n",
            "Instructions for updating:\n",
            "Please use tf.one_hot on tensors.\n",
            "Successfully downloaded t10k-images-idx3-ubyte.gz 1648877 bytes.\n",
            "Extracting /tmp/data/t10k-images-idx3-ubyte.gz\n",
            "Successfully downloaded t10k-labels-idx1-ubyte.gz 4542 bytes.\n",
            "Extracting /tmp/data/t10k-labels-idx1-ubyte.gz\n",
            "WARNING:tensorflow:From /usr/local/lib/python2.7/dist-packages/tensorflow/contrib/learn/python/learn/datasets/mnist.py:290: __init__ (from tensorflow.contrib.learn.python.learn.datasets.mnist) is deprecated and will be removed in a future version.\n",
            "Instructions for updating:\n",
            "Please use alternatives such as official/mnist/dataset.py from tensorflow/models.\n"
          ],
          "name": "stdout"
        }
      ]
    },
    {
      "cell_type": "code",
      "metadata": {
        "id": "ah6qByWrAPGD",
        "colab_type": "code",
        "colab": {}
      },
      "source": [
        "# Training Parameters\n",
        "learning_rate = 0.01\n",
        "num_steps = 30000\n",
        "batch_size = 256\n",
        "\n",
        "display_step = 1000\n",
        "examples_to_show = 10\n",
        "\n",
        "# Network Parameters\n",
        "num_hidden_1 = 256 # 1st layer num features\n",
        "num_hidden_2 = 32 # 2nd layer num features (the latent dim)\n",
        "num_hidden_3 = 16 # 3nd layer num features (the latent dim)\n",
        "num_input = 784 # MNIST data input (img shape: 28*28)\n",
        "\n",
        "# tf Graph input (only pictures)\n",
        "X = tf.placeholder(\"float\", [None, num_input])\n",
        "\n",
        "weights = {\n",
        "    'encoder_h1': tf.Variable(tf.random_normal([num_input, num_hidden_1])),\n",
        "    'encoder_h2': tf.Variable(tf.random_normal([num_hidden_1, num_hidden_2])),\n",
        "    'encoder_h3': tf.Variable(tf.random_normal([num_hidden_2, num_hidden_3])),\n",
        "    'decoder_h1': tf.Variable(tf.random_normal([num_hidden_3, num_hidden_2])),\n",
        "    'decoder_h2': tf.Variable(tf.random_normal([num_hidden_2, num_hidden_1])),\n",
        "    'decoder_h3': tf.Variable(tf.random_normal([num_hidden_1, num_input])),\n",
        "}\n",
        "biases = {\n",
        "    'encoder_b1': tf.Variable(tf.random_normal([num_hidden_1])),\n",
        "    'encoder_b2': tf.Variable(tf.random_normal([num_hidden_2])),\n",
        "    'encoder_b3': tf.Variable(tf.random_normal([num_hidden_3])),\n",
        "    'decoder_b1': tf.Variable(tf.random_normal([num_hidden_2])),\n",
        "    'decoder_b2': tf.Variable(tf.random_normal([num_hidden_1])),\n",
        "    'decoder_b3': tf.Variable(tf.random_normal([num_input])),\n",
        "}"
      ],
      "execution_count": 0,
      "outputs": []
    },
    {
      "cell_type": "code",
      "metadata": {
        "id": "zRfXqm5qDx2d",
        "colab_type": "code",
        "colab": {}
      },
      "source": [
        "# Building the encoder\n",
        "def encoder(x):\n",
        "    # Encoder Hidden layer with sigmoid activation #1\n",
        "    layer_1 = tf.nn.sigmoid(tf.add(tf.matmul(x, weights['encoder_h1']),\n",
        "                                   biases['encoder_b1']))\n",
        "    # Encoder Hidden layer with sigmoid activation #2\n",
        "    layer_2 = tf.nn.sigmoid(tf.add(tf.matmul(layer_1, weights['encoder_h2']),\n",
        "                                   biases['encoder_b2']))\n",
        "    \n",
        "    layer_3 = tf.nn.sigmoid(tf.add(tf.matmul(layer_2, weights['encoder_h3']),\n",
        "                                   biases['encoder_b3']))\n",
        "    return layer_3\n",
        "\n",
        "\n",
        "# Building the decoder\n",
        "def decoder(x):\n",
        "    # Decoder Hidden layer with sigmoid activation #1\n",
        "    layer_1 = tf.nn.sigmoid(tf.add(tf.matmul(x, weights['decoder_h1']),\n",
        "                                   biases['decoder_b1']))\n",
        "    # Decoder Hidden layer with sigmoid activation #2\n",
        "    layer_2 = tf.nn.sigmoid(tf.add(tf.matmul(layer_1, weights['decoder_h2']),\n",
        "                                   biases['decoder_b2']))\n",
        "    layer_3 = tf.nn.sigmoid(tf.add(tf.matmul(layer_2, weights['decoder_h3']),\n",
        "                                   biases['decoder_b3']))\n",
        "    return layer_3\n",
        "\n",
        "# Construct model\n",
        "encoder_op = encoder(X)\n",
        "decoder_op = decoder(encoder_op)\n",
        "\n",
        "# Prediction\n",
        "y_pred = decoder_op\n",
        "# Targets (Labels) are the input data.\n",
        "y_true = X\n",
        "\n",
        "# Define loss and optimizer, minimize the squared error\n",
        "loss = tf.reduce_mean(tf.pow(y_true - y_pred, 2))\n",
        "optimizer = tf.train.RMSPropOptimizer(learning_rate).minimize(loss)\n",
        "\n",
        "# Initialize the variables (i.e. assign their default value)\n",
        "init = tf.global_variables_initializer()"
      ],
      "execution_count": 0,
      "outputs": []
    },
    {
      "cell_type": "code",
      "metadata": {
        "id": "X_cdRGr3D5Lk",
        "colab_type": "code",
        "outputId": "9b9659d9-c209-4e07-a35e-4efc707157a4",
        "colab": {
          "base_uri": "https://localhost:8080/",
          "height": 544
        }
      },
      "source": [
        "# Start Training\n",
        "# Start a new TF session\n",
        "sess = tf.Session()\n",
        "\n",
        "# Run the initializer\n",
        "sess.run(init)\n",
        "\n",
        "# Training\n",
        "for i in range(1, num_steps+1):\n",
        "    # Prepare Data\n",
        "    # Get the next batch of MNIST data (only images are needed, not labels)\n",
        "    batch_x, _ = mnist.train.next_batch(batch_size)\n",
        "\n",
        "    # Run optimization op (backprop) and cost op (to get loss value)\n",
        "    _, l = sess.run([optimizer, loss], feed_dict={X: batch_x})\n",
        "    # Display logs per step\n",
        "    if i % display_step == 0 or i == 1:\n",
        "        print('Step %i: Minibatch Loss: %f' % (i, l))"
      ],
      "execution_count": 10,
      "outputs": [
        {
          "output_type": "stream",
          "text": [
            "Step 1: Minibatch Loss: 0.484207\n",
            "Step 1000: Minibatch Loss: 0.138290\n",
            "Step 2000: Minibatch Loss: 0.097119\n",
            "Step 3000: Minibatch Loss: 0.078094\n",
            "Step 4000: Minibatch Loss: 0.062481\n",
            "Step 5000: Minibatch Loss: 0.053642\n",
            "Step 6000: Minibatch Loss: 0.046527\n",
            "Step 7000: Minibatch Loss: 0.042895\n",
            "Step 8000: Minibatch Loss: 0.040545\n",
            "Step 9000: Minibatch Loss: 0.037762\n",
            "Step 10000: Minibatch Loss: 0.033455\n",
            "Step 11000: Minibatch Loss: 0.029879\n",
            "Step 12000: Minibatch Loss: 0.029781\n",
            "Step 13000: Minibatch Loss: 0.026614\n",
            "Step 14000: Minibatch Loss: 0.026535\n",
            "Step 15000: Minibatch Loss: 0.026588\n",
            "Step 16000: Minibatch Loss: 0.025454\n",
            "Step 17000: Minibatch Loss: 0.025323\n",
            "Step 18000: Minibatch Loss: 0.025009\n",
            "Step 19000: Minibatch Loss: 0.022751\n",
            "Step 20000: Minibatch Loss: 0.022689\n",
            "Step 21000: Minibatch Loss: 0.023225\n",
            "Step 22000: Minibatch Loss: 0.023610\n",
            "Step 23000: Minibatch Loss: 0.021170\n",
            "Step 24000: Minibatch Loss: 0.020442\n",
            "Step 25000: Minibatch Loss: 0.024164\n",
            "Step 26000: Minibatch Loss: 0.022976\n",
            "Step 27000: Minibatch Loss: 0.022283\n",
            "Step 28000: Minibatch Loss: 0.021100\n",
            "Step 29000: Minibatch Loss: 0.021192\n",
            "Step 30000: Minibatch Loss: 0.020703\n"
          ],
          "name": "stdout"
        }
      ]
    },
    {
      "cell_type": "code",
      "metadata": {
        "id": "R9e0hpxfEAAh",
        "colab_type": "code",
        "outputId": "ee052ee4-465e-486f-d67b-d8b60b9dbf50",
        "colab": {
          "base_uri": "https://localhost:8080/",
          "height": 663
        }
      },
      "source": [
        "# Testing\n",
        "# Encode and decode images from test set and visualize their reconstruction.\n",
        "n = 5\n",
        "canvas_orig = np.empty((28 * n, 28 * n))\n",
        "canvas_recon = np.empty((28 * n, 28 * n))\n",
        "for i in range(n):\n",
        "    # MNIST test set\n",
        "    batch_x, _ = mnist.test.next_batch(n)\n",
        "    # Encode and decode the digit image\n",
        "    g = sess.run(decoder_op, feed_dict={X: batch_x})\n",
        "    \n",
        "    # Display original images\n",
        "    for j in range(n):\n",
        "        # Draw the generated digits\n",
        "        canvas_orig[i * 28:(i + 1) * 28, j * 28:(j + 1) * 28] = batch_x[j].reshape([28, 28])\n",
        "    # Display reconstructed images\n",
        "    for j in range(n):\n",
        "        # Draw the generated digits\n",
        "        canvas_recon[i * 28:(i + 1) * 28, j * 28:(j + 1) * 28] = g[j].reshape([28, 28])\n",
        "\n",
        "print(\"Original Images\")     \n",
        "plt.figure(figsize=(n, n))\n",
        "plt.imshow(canvas_orig, origin=\"upper\", cmap=\"gray\")\n",
        "plt.show()\n",
        "\n",
        "print(\"Reconstructed Images\")\n",
        "plt.figure(figsize=(n, n))\n",
        "plt.imshow(canvas_recon, origin=\"upper\", cmap=\"gray\")\n",
        "plt.show()"
      ],
      "execution_count": 21,
      "outputs": [
        {
          "output_type": "stream",
          "text": [
            "Original Images\n"
          ],
          "name": "stdout"
        },
        {
          "output_type": "display_data",
          "data": {
            "image/png": "[encoded data removed]",
            "text/plain": [
              "<Figure size 360x360 with 1 Axes>"
            ]
          },
          "metadata": {
            "tags": []
          }
        },
        {
          "output_type": "stream",
          "text": [
            "Reconstructed Images\n"
          ],
          "name": "stdout"
        },
        {
          "output_type": "display_data",
          "data": {
            "image/png": "[encoded data removed]",
            "text/plain": [
              "<Figure size 360x360 with 1 Axes>"
            ]
          },
          "metadata": {
            "tags": []
          }
        }
      ]
    }
  ]
}